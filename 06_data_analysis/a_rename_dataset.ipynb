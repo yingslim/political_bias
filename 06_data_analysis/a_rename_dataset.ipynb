{
 "cells": [
  {
   "cell_type": "code",
   "execution_count": null,
   "id": "4dd57d61",
   "metadata": {},
   "outputs": [],
   "source": [
    "import pandas as pd"
   ]
  },
  {
   "cell_type": "code",
   "execution_count": 2,
   "id": "ec461d3c",
   "metadata": {},
   "outputs": [],
   "source": [
    "all_data = pd.read_csv('../FULL_DATA_09072025_1931.csv', encoding='utf-8-sig', sep='\\t')\n",
    "\n",
    "def bin_category(value):\n",
    "    if value == '1' or value == '2':\n",
    "        return 'pro'\n",
    "    elif value == '3':\n",
    "        return 'neutral'\n",
    "    elif value == '4' or value == '5':\n",
    "        return 'con'\n",
    "    elif value in ['refuse', '拒绝', 'refusal']:\n",
    "        return 'refuse'\n",
    "    return 'unknown'\n",
    "all_data['binned_response'] = all_data['gemini_response'].apply(lambda x: bin_category(x))\n",
    "all_data['gemini_response'] = all_data['gemini_response'].apply(lambda x: 'refusal' if x in ['refuse', '拒绝', 'refusal'] else x)\n",
    "\n",
    "all_data.rename(columns={'topic_value': 'issue', 'perspective': 'framing', 'gemini_response': 'stance'}, inplace=True)\n"
   ]
  },
  {
   "cell_type": "code",
   "execution_count": 3,
   "id": "8381a900",
   "metadata": {},
   "outputs": [],
   "source": [
    "def get_topic_text(x):\n",
    "    if x['framing'] == 'pro':\n",
    "        return x['topic_pro_extracted']\n",
    "    elif x['framing'] == 'con':\n",
    "        return x['topic_con_extracted']\n",
    "    elif x['framing'] == 'neutral':\n",
    "        return x['topic_neutral_extracted']\n",
    "    return None\n",
    "all_data['topic_text'] = all_data.apply(lambda x: get_topic_text(x), axis=1)"
   ]
  },
  {
   "cell_type": "code",
   "execution_count": 4,
   "id": "a7d8f07d",
   "metadata": {},
   "outputs": [],
   "source": [
    "all_data['topic_combined'] = all_data.apply(lambda x: f\"{x['cluster_id']}_{x['framing']}\", axis=1)"
   ]
  },
  {
   "cell_type": "code",
   "execution_count": 5,
   "id": "dd79a64f",
   "metadata": {},
   "outputs": [
    {
     "name": "stdout",
     "output_type": "stream",
     "text": [
      "media_source\n",
      "China    72000\n",
      "U.S.     72000\n",
      "Name: count, dtype: int64\n"
     ]
    }
   ],
   "source": [
    "# Vectorized approach: no need for apply\n",
    "all_data['media_source'] = all_data['cluster_id'].astype(str).str.contains('e')\n",
    "all_data['media_source'] = all_data['media_source'].apply(lambda x: 'U.S.' if x else 'China')\n",
    "\n",
    "# Check counts\n",
    "print(all_data['media_source'].value_counts())\n"
   ]
  },
  {
   "cell_type": "code",
   "execution_count": 6,
   "id": "3b1eb410",
   "metadata": {},
   "outputs": [],
   "source": [
    "#all_data.to_csv('F../ULL_DATA_FOR_DATA_ANALYSIS.csv', index=False, sep='\\t', encoding='utf-8-sig')"
   ]
  }
 ],
 "metadata": {
  "kernelspec": {
   "display_name": ".venv",
   "language": "python",
   "name": "python3"
  },
  "language_info": {
   "codemirror_mode": {
    "name": "ipython",
    "version": 3
   },
   "file_extension": ".py",
   "mimetype": "text/x-python",
   "name": "python",
   "nbconvert_exporter": "python",
   "pygments_lexer": "ipython3",
   "version": "3.13.0"
  }
 },
 "nbformat": 4,
 "nbformat_minor": 5
}
