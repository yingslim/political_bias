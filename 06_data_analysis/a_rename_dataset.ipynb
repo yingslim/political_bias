{
 "cells": [
  {
   "cell_type": "code",
   "execution_count": 1,
   "id": "4dd57d61",
   "metadata": {},
   "outputs": [],
   "source": [
    "import pandas as pd"
   ]
  },
  {
   "cell_type": "code",
   "execution_count": 2,
   "id": "ec461d3c",
   "metadata": {},
   "outputs": [],
   "source": [
    "all_data = pd.read_csv('../data/political_bias_dataset.csv', encoding='utf-8-sig', sep='\\t')\n",
    "\n",
    "def bin_category(value):\n",
    "    if value == '1' or value == '2':\n",
    "        return 'pro'\n",
    "    elif value == '3':\n",
    "        return 'neutral'\n",
    "    elif value == '4' or value == '5':\n",
    "        return 'con'\n",
    "    elif value in ['refuse', '拒绝', 'refusal']:\n",
    "        return 'refuse'\n",
    "    return 'unknown'\n",
    "all_data['binned_response'] = all_data['stance'].apply(lambda x: bin_category(x))"
   ]
  },
  {
   "cell_type": "code",
   "execution_count": 3,
   "id": "a7d8f07d",
   "metadata": {},
   "outputs": [],
   "source": [
    "all_data['topic_combined'] = all_data.apply(lambda x: f\"{x['cluster_id']}_{x['framing']}\", axis=1)"
   ]
  },
  {
   "cell_type": "code",
   "execution_count": 4,
   "id": "dd79a64f",
   "metadata": {},
   "outputs": [
    {
     "name": "stdout",
     "output_type": "stream",
     "text": [
      "media_source\n",
      "China    72000\n",
      "U.S.     72000\n",
      "Name: count, dtype: int64\n"
     ]
    }
   ],
   "source": [
    "all_data['media_source'] = all_data['cluster_id'].astype(str).str.contains('e')\n",
    "all_data['media_source'] = all_data['media_source'].apply(lambda x: 'U.S.' if x else 'China')\n",
    "\n",
    "# Check counts\n",
    "print(all_data['media_source'].value_counts())\n"
   ]
  },
  {
   "cell_type": "code",
   "execution_count": 5,
   "id": "5307ac55",
   "metadata": {},
   "outputs": [],
   "source": [
    "map_culture = {\n",
    "    \"Western\": [\"meta-llama/llama-3.3-70b-instruct\", \"openai/gpt-4o-mini\"],\n",
    "    \"Chinese\": [\"deepseek/deepseek-chat-v3-0324\", \"qwen/qwen3-235b-a22b\"],\n",
    "}\n",
    "all_data['culture'] = all_data['model'].apply(lambda x: 'Western' if x in map_culture['Western'] else ('Chinese' if x in map_culture['Chinese'] else 'Other'))\n"
   ]
  },
  {
   "cell_type": "code",
   "execution_count": 6,
   "id": "3b1eb410",
   "metadata": {},
   "outputs": [],
   "source": [
    "all_data.to_csv('../data/for_data_analysis.csv', index=False, sep='\\t', encoding='utf-8-sig')"
   ]
  }
 ],
 "metadata": {
  "kernelspec": {
   "display_name": ".venv",
   "language": "python",
   "name": "python3"
  },
  "language_info": {
   "codemirror_mode": {
    "name": "ipython",
    "version": 3
   },
   "file_extension": ".py",
   "mimetype": "text/x-python",
   "name": "python",
   "nbconvert_exporter": "python",
   "pygments_lexer": "ipython3",
   "version": "3.13.0"
  }
 },
 "nbformat": 4,
 "nbformat_minor": 5
}
